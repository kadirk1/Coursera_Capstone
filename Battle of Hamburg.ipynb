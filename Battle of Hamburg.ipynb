{
 "cells": [
  {
   "cell_type": "markdown",
   "metadata": {},
   "source": [
    "## Battle of Hamburg"
   ]
  },
  {
   "cell_type": "markdown",
   "metadata": {},
   "source": [
    "My project is about Hamburg. In Hamburg there are in total 104 areas and 7 regions. My problem is to find best area to open  a fitness studio. "
   ]
  },
  {
   "cell_type": "markdown",
   "metadata": {},
   "source": [
    "As dataset I am going to use Wikipedia and Foursquare. On the following link, there is list of areas and their coordinates:\n",
    "https://de.wikipedia.org/wiki/Liste_der_Bezirke_und_Stadtteile_Hamburgs\n",
    "And for the fitness studio location I am going to use Foursquare data."
   ]
  }
 ],
 "metadata": {
  "kernelspec": {
   "display_name": "Python 3",
   "language": "python",
   "name": "python3"
  },
  "language_info": {
   "codemirror_mode": {
    "name": "ipython",
    "version": 3
   },
   "file_extension": ".py",
   "mimetype": "text/x-python",
   "name": "python",
   "nbconvert_exporter": "python",
   "pygments_lexer": "ipython3",
   "version": "3.8.3"
  }
 },
 "nbformat": 4,
 "nbformat_minor": 4
}
